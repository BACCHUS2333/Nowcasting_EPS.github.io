{
 "cells": [
  {
   "cell_type": "code",
   "execution_count": 38,
   "id": "1022e4d8",
   "metadata": {},
   "outputs": [],
   "source": [
    "#import necessary libraries\n",
    "import pandas as pd\n",
    "import numpy as np\n",
    "import matplotlib.pyplot as plt\n",
    "from sklearn.model_selection import train_test_split"
   ]
  },
  {
   "cell_type": "markdown",
   "id": "a98f5070",
   "metadata": {},
   "source": [
    "# 0.) Clean the Apple Data to get a quarterly series of EPS."
   ]
  },
  {
   "cell_type": "code",
   "execution_count": 39,
   "id": "c7f8e883",
   "metadata": {},
   "outputs": [
    {
     "name": "stderr",
     "output_type": "stream",
     "text": [
      "/var/folders/_b/4lj1bh0s4473m5xx061k14lc0000gn/T/ipykernel_17862/2059250550.py:8: SettingWithCopyWarning: \n",
      "A value is trying to be set on a copy of a slice from a DataFrame\n",
      "\n",
      "See the caveats in the documentation: https://pandas.pydata.org/pandas-docs/stable/user_guide/indexing.html#returning-a-view-versus-a-copy\n",
      "  df_mt.fillna(method=\"backfill\",inplace=True)\n",
      "/var/folders/_b/4lj1bh0s4473m5xx061k14lc0000gn/T/ipykernel_17862/2059250550.py:9: SettingWithCopyWarning: \n",
      "A value is trying to be set on a copy of a slice from a DataFrame\n",
      "\n",
      "See the caveats in the documentation: https://pandas.pydata.org/pandas-docs/stable/user_guide/indexing.html#returning-a-view-versus-a-copy\n",
      "  df_mt.fillna(0,inplace=True)\n",
      "/var/folders/_b/4lj1bh0s4473m5xx061k14lc0000gn/T/ipykernel_17862/2059250550.py:11: SettingWithCopyWarning: \n",
      "A value is trying to be set on a copy of a slice from a DataFrame\n",
      "\n",
      "See the caveats in the documentation: https://pandas.pydata.org/pandas-docs/stable/user_guide/indexing.html#returning-a-view-versus-a-copy\n",
      "  df_mt.sort_index(inplace=True,ascending=1)\n"
     ]
    }
   ],
   "source": [
    "#read data APPL_quarterly_financials.csv\n",
    "#extract the EPS data of it and preprocess it\n",
    "df = pd.read_csv('AAPL_quarterly_financials.csv',sep=\",\"\n",
    "              ,index_col= 0  )\n",
    "df = df.T\n",
    "df.drop(['ttm'],inplace=True)\n",
    "df_mt = df[['BasicEPS']]\n",
    "df_mt.fillna(method=\"backfill\",inplace=True)\n",
    "df_mt.fillna(0,inplace=True)\n",
    "df_mt.index = pd.to_datetime(df_mt.index)\n",
    "df_mt.sort_index(inplace=True,ascending=1)\n",
    "eps_data = df_mt\n"
   ]
  },
  {
   "cell_type": "markdown",
   "id": "2c1b3d9a",
   "metadata": {},
   "source": [
    "# 1.) Import data. Train, Test, Holdout (80%,15%,5%)\n",
    "# DELETE"
   ]
  },
  {
   "cell_type": "code",
   "execution_count": 40,
   "id": "2c1b3d9a",
   "metadata": {},
   "outputs": [],
   "source": [
    "#split the data into train and test\n",
    "#leave 5% holdout\n",
    "train_eps,test_eps = train_test_split(eps_data,train_size=0.80,test_size=0.10)\n"
   ]
  },
  {
   "cell_type": "markdown",
   "id": "f41c46a9",
   "metadata": {},
   "source": [
    "# 3.) Come up with 6 search terms you think could nowcast earnings. (Different than the ones I used) Add in 3 terms that that you think will not Nowcast earnings. Pull in the gtrends data. Clean it to have a quarterly average."
   ]
  },
  {
   "cell_type": "code",
   "execution_count": 41,
   "id": "6bc55852",
   "metadata": {},
   "outputs": [],
   "source": [
    "# Create pytrends object\n",
    "from pytrends.request import TrendReq\n",
    "pytrends = TrendReq(hl='en-US', tz=360)\n",
    "\n",
    "# Set up the keywords and the timeframe\n",
    "\n",
    "#CHANGE THE KEYWORDS LIST FOR BEST NOWCASTING    <--------------------\n",
    "#--------------------------------------\n",
    "#--------------------------------------\n",
    "#--------------------------------------\n",
    "#keywords = ['Lakers','Warriors','Celtics','Bulls','Knicks','Heat','Spurs','Rockets']\n",
    "relevant_keywords = ['iphone','iwatch','mac','Siri','Android','Samsung']\n",
    "irrelevant_keywords = ['turbocharger','otologist','peanut worms']\n",
    "#combine the relevant and irrelevant keywords\n",
    "keywords = relevant_keywords + irrelevant_keywords\n",
    "#the start date and end date of the data could remain the same\n",
    "start_date = '2004-01-01'\n",
    "end_date = '2024-01-01'\n",
    "#--------------------------------------\n",
    "#--------------------------------------\n",
    "#--------------------------------------\n",
    "\n",
    "# Create an empty DataFrame to store the results\n",
    "df = pd.DataFrame()\n",
    "\n",
    "# Iterate through keywords and fetch data\n",
    "for keyword in keywords:\n",
    "    pytrends.build_payload([keyword], cat=0, timeframe=f'{start_date} {end_date}', geo='', gprop='')\n",
    "    interest_over_time_df = pytrends.interest_over_time()\n",
    "    df[keyword] = interest_over_time_df[keyword]\n",
    "df.fillna(method=\"backfill\",inplace=True)\n",
    "#change df into quateryly data\n",
    "df = df.resample(\"Q\").mean()[:\"20231230\"]\n"
   ]
  },
  {
   "cell_type": "markdown",
   "id": "f41c46a9",
   "metadata": {},
   "source": [
    "# 2.) Normalize all the X data"
   ]
  },
  {
   "cell_type": "code",
   "execution_count": 42,
   "id": "21022e7e",
   "metadata": {},
   "outputs": [
    {
     "data": {
      "text/plain": [
       "'data scale: '"
      ]
     },
     "metadata": {},
     "output_type": "display_data"
    },
    {
     "data": {
      "text/plain": [
       "(79, 9)"
      ]
     },
     "metadata": {},
     "output_type": "display_data"
    },
    {
     "data": {
      "text/plain": [
       "(79, 1)"
      ]
     },
     "metadata": {},
     "output_type": "display_data"
    },
    {
     "data": {
      "text/html": [
       "<div>\n",
       "<style scoped>\n",
       "    .dataframe tbody tr th:only-of-type {\n",
       "        vertical-align: middle;\n",
       "    }\n",
       "\n",
       "    .dataframe tbody tr th {\n",
       "        vertical-align: top;\n",
       "    }\n",
       "\n",
       "    .dataframe thead th {\n",
       "        text-align: right;\n",
       "    }\n",
       "</style>\n",
       "<table border=\"1\" class=\"dataframe\">\n",
       "  <thead>\n",
       "    <tr style=\"text-align: right;\">\n",
       "      <th></th>\n",
       "      <th>iphone</th>\n",
       "      <th>iwatch</th>\n",
       "      <th>mac</th>\n",
       "      <th>Siri</th>\n",
       "      <th>Android</th>\n",
       "      <th>Samsung</th>\n",
       "      <th>turbocharger</th>\n",
       "      <th>otologist</th>\n",
       "      <th>peanut worms</th>\n",
       "    </tr>\n",
       "    <tr>\n",
       "      <th>date</th>\n",
       "      <th></th>\n",
       "      <th></th>\n",
       "      <th></th>\n",
       "      <th></th>\n",
       "      <th></th>\n",
       "      <th></th>\n",
       "      <th></th>\n",
       "      <th></th>\n",
       "      <th></th>\n",
       "    </tr>\n",
       "  </thead>\n",
       "  <tbody>\n",
       "    <tr>\n",
       "      <th>2004-03-31</th>\n",
       "      <td>-1.821981</td>\n",
       "      <td>-1.047574</td>\n",
       "      <td>0.422144</td>\n",
       "      <td>-1.181210</td>\n",
       "      <td>-1.233305</td>\n",
       "      <td>-1.737747</td>\n",
       "      <td>3.230881</td>\n",
       "      <td>-2.072235</td>\n",
       "      <td>2.644384</td>\n",
       "    </tr>\n",
       "    <tr>\n",
       "      <th>2004-06-30</th>\n",
       "      <td>-1.821981</td>\n",
       "      <td>-1.047574</td>\n",
       "      <td>0.159072</td>\n",
       "      <td>-1.181210</td>\n",
       "      <td>-1.233305</td>\n",
       "      <td>-1.789578</td>\n",
       "      <td>3.167989</td>\n",
       "      <td>6.932580</td>\n",
       "      <td>2.112139</td>\n",
       "    </tr>\n",
       "    <tr>\n",
       "      <th>2004-09-30</th>\n",
       "      <td>-1.821981</td>\n",
       "      <td>-1.047574</td>\n",
       "      <td>0.098364</td>\n",
       "      <td>-1.181210</td>\n",
       "      <td>-1.233305</td>\n",
       "      <td>-1.616809</td>\n",
       "      <td>3.042203</td>\n",
       "      <td>-1.214634</td>\n",
       "      <td>2.484710</td>\n",
       "    </tr>\n",
       "    <tr>\n",
       "      <th>2004-12-31</th>\n",
       "      <td>-1.821981</td>\n",
       "      <td>-1.047574</td>\n",
       "      <td>0.482852</td>\n",
       "      <td>-0.949530</td>\n",
       "      <td>-1.233305</td>\n",
       "      <td>-1.478594</td>\n",
       "      <td>2.497133</td>\n",
       "      <td>2.168128</td>\n",
       "      <td>3.495977</td>\n",
       "    </tr>\n",
       "    <tr>\n",
       "      <th>2005-03-31</th>\n",
       "      <td>-1.821981</td>\n",
       "      <td>-1.085140</td>\n",
       "      <td>0.826869</td>\n",
       "      <td>-1.052499</td>\n",
       "      <td>-1.233305</td>\n",
       "      <td>-1.530425</td>\n",
       "      <td>2.790632</td>\n",
       "      <td>-0.499966</td>\n",
       "      <td>2.484710</td>\n",
       "    </tr>\n",
       "  </tbody>\n",
       "</table>\n",
       "</div>"
      ],
      "text/plain": [
       "              iphone    iwatch       mac      Siri   Android   Samsung  \\\n",
       "date                                                                     \n",
       "2004-03-31 -1.821981 -1.047574  0.422144 -1.181210 -1.233305 -1.737747   \n",
       "2004-06-30 -1.821981 -1.047574  0.159072 -1.181210 -1.233305 -1.789578   \n",
       "2004-09-30 -1.821981 -1.047574  0.098364 -1.181210 -1.233305 -1.616809   \n",
       "2004-12-31 -1.821981 -1.047574  0.482852 -0.949530 -1.233305 -1.478594   \n",
       "2005-03-31 -1.821981 -1.085140  0.826869 -1.052499 -1.233305 -1.530425   \n",
       "\n",
       "            turbocharger  otologist  peanut worms  \n",
       "date                                               \n",
       "2004-03-31      3.230881  -2.072235      2.644384  \n",
       "2004-06-30      3.167989   6.932580      2.112139  \n",
       "2004-09-30      3.042203  -1.214634      2.484710  \n",
       "2004-12-31      2.497133   2.168128      3.495977  \n",
       "2005-03-31      2.790632  -0.499966      2.484710  "
      ]
     },
     "metadata": {},
     "output_type": "display_data"
    }
   ],
   "source": [
    "#Normalize the data using StandardScaler\n",
    "from sklearn.preprocessing import MinMaxScaler, StandardScaler\n",
    "eps_data = eps_data.resample(\"Q\").mean()[\"2004-01-01\":]\n",
    "display(\"data scale: \",df.shape,eps_data.shape)\n",
    "scalar = StandardScaler()\n",
    "\n",
    "X_std = scalar.fit_transform(df)\n",
    "display(pd.DataFrame(X_std,index=df.index,columns=df.columns).head())\n",
    "#y = scalar.fit_transform(eps_data)\n",
    "y = eps_data.values"
   ]
  },
  {
   "cell_type": "markdown",
   "id": "da43d5ef",
   "metadata": {},
   "source": [
    "# 4.) Run a Lasso with lambda of .5. Plot a bar chart."
   ]
  },
  {
   "cell_type": "code",
   "execution_count": 43,
   "id": "b7ff06aa",
   "metadata": {},
   "outputs": [
    {
     "data": {
      "image/png": "[encoded data removed]",
      "text/plain": [
       "<Figure size 640x480 with 1 Axes>"
      ]
     },
     "metadata": {},
     "output_type": "display_data"
    },
    {
     "name": "stdout",
     "output_type": "stream",
     "text": [
      "Lasso regression score: 0.05  0.7220954110695137\n",
      "                  coef\n",
      "iphone        0.073392\n",
      "iwatch        0.000000\n",
      "mac          -0.290366\n",
      "Siri          0.017055\n",
      "Android      -0.000000\n",
      "Samsung       0.000000\n",
      "turbocharger -0.077801\n",
      "otologist    -0.000000\n",
      "peanut worms -0.000000\n"
     ]
    }
   ],
   "source": [
    "from sklearn.linear_model import Lasso\n",
    "#write a function to run the Lasso regression of multivariate\n",
    "def run_lasso_regression(X, y, alpha):\n",
    "    lasso = Lasso(alpha=alpha)\n",
    "    lasso.fit(X, y)\n",
    "    return lasso\n",
    "alpha = 0.05\n",
    "reg = run_lasso_regression(X_std,y,alpha)\n",
    "plt.bar(range(len(reg.coef_)),\n",
    "    reg.coef_,tick_label=df.columns,color= \"#00A36C\")\n",
    "plt.axhline(0, color='#B90E0A', linestyle=\"--\",linewidth=3)\n",
    "plt.title(\"Lasso Regression Coefficients at alpha = {} \".format(alpha))\n",
    "plt.xlabel(\"keywords\")\n",
    "plt.xticks(rotation=45)\n",
    "plt.show()\n",
    "reg.fit(X_std,y)\n",
    "print(\"Lasso regression score: {} \".format(alpha),reg.score(X_std,y))\n",
    "print(pd.DataFrame(reg.coef_,index=df.columns,columns=[\"coef\"]))"
   ]
  },
  {
   "cell_type": "markdown",
   "id": "e130a2be",
   "metadata": {},
   "source": [
    "# 5.) Do these coefficient magnitudes make sense?"
   ]
  },
  {
   "cell_type": "code",
   "execution_count": 44,
   "id": "e130a2be",
   "metadata": {},
   "outputs": [],
   "source": [
    "#yes the coefficients magnitudes make sense\n",
    "#the coefficients of the irrelevant keywords are close to zero\n",
    "#the coefficients of the relevant keywords are not close to zero,\n",
    "#with siri and iphone having the highest coefficients\n",
    "#strongest positive correlation with the EPS\n",
    "\n",
    "#howeever, the coefficients of mac is unexpectedly negative"
   ]
  },
  {
   "cell_type": "markdown",
   "id": "3a2bd7d7",
   "metadata": {},
   "source": [
    "# 6.) Run a for loop looking at 10 different Lambdas and plot the coefficient magnitude for each."
   ]
  },
  {
   "cell_type": "code",
   "execution_count": 47,
   "id": "3a2bd7d7",
   "metadata": {},
   "outputs": [
    {
     "name": "stderr",
     "output_type": "stream",
     "text": [
      "/Library/Frameworks/Python.framework/Versions/3.11/lib/python3.11/site-packages/sklearn/base.py:1152: UserWarning: With alpha=0, this algorithm does not converge well. You are advised to use the LinearRegression estimator\n",
      "  return fit_method(estimator, *args, **kwargs)\n",
      "/Library/Frameworks/Python.framework/Versions/3.11/lib/python3.11/site-packages/sklearn/linear_model/_coordinate_descent.py:628: UserWarning: Coordinate descent with no regularization may lead to unexpected results and is discouraged.\n",
      "  model = cd_fast.enet_coordinate_descent(\n",
      "/Library/Frameworks/Python.framework/Versions/3.11/lib/python3.11/site-packages/sklearn/linear_model/_coordinate_descent.py:628: ConvergenceWarning: Objective did not converge. You might want to increase the number of iterations, check the scale of the features or consider increasing regularisation. Duality gap: 2.241e+00, tolerance: 2.062e-03 Linear regression models with null weight for the l1 regularization term are more efficiently fitted using one of the solvers implemented in sklearn.linear_model.Ridge/RidgeCV instead.\n",
      "  model = cd_fast.enet_coordinate_descent(\n"
     ]
    },
    {
     "data": {
      "text/html": [
       "<div>\n",
       "<style scoped>\n",
       "    .dataframe tbody tr th:only-of-type {\n",
       "        vertical-align: middle;\n",
       "    }\n",
       "\n",
       "    .dataframe tbody tr th {\n",
       "        vertical-align: top;\n",
       "    }\n",
       "\n",
       "    .dataframe thead th {\n",
       "        text-align: right;\n",
       "    }\n",
       "</style>\n",
       "<table border=\"1\" class=\"dataframe\">\n",
       "  <thead>\n",
       "    <tr style=\"text-align: right;\">\n",
       "      <th></th>\n",
       "      <th>score</th>\n",
       "    </tr>\n",
       "  </thead>\n",
       "  <tbody>\n",
       "    <tr>\n",
       "      <th>0.00</th>\n",
       "      <td>0.782675</td>\n",
       "    </tr>\n",
       "    <tr>\n",
       "      <th>0.01</th>\n",
       "      <td>0.774425</td>\n",
       "    </tr>\n",
       "    <tr>\n",
       "      <th>0.05</th>\n",
       "      <td>0.722095</td>\n",
       "    </tr>\n",
       "    <tr>\n",
       "      <th>0.10</th>\n",
       "      <td>0.675648</td>\n",
       "    </tr>\n",
       "    <tr>\n",
       "      <th>0.20</th>\n",
       "      <td>0.499942</td>\n",
       "    </tr>\n",
       "    <tr>\n",
       "      <th>0.50</th>\n",
       "      <td>0.0</td>\n",
       "    </tr>\n",
       "    <tr>\n",
       "      <th>0.80</th>\n",
       "      <td>0.0</td>\n",
       "    </tr>\n",
       "    <tr>\n",
       "      <th>1.00</th>\n",
       "      <td>0.0</td>\n",
       "    </tr>\n",
       "    <tr>\n",
       "      <th>5.00</th>\n",
       "      <td>0.0</td>\n",
       "    </tr>\n",
       "    <tr>\n",
       "      <th>10.00</th>\n",
       "      <td>0.0</td>\n",
       "    </tr>\n",
       "  </tbody>\n",
       "</table>\n",
       "</div>"
      ],
      "text/plain": [
       "          score\n",
       "0.00   0.782675\n",
       "0.01   0.774425\n",
       "0.05   0.722095\n",
       "0.10   0.675648\n",
       "0.20   0.499942\n",
       "0.50        0.0\n",
       "0.80        0.0\n",
       "1.00        0.0\n",
       "5.00        0.0\n",
       "10.00       0.0"
      ]
     },
     "metadata": {},
     "output_type": "display_data"
    },
    {
     "name": "stdout",
     "output_type": "stream",
     "text": [
      "best alpha:  0.0\n"
     ]
    },
    {
     "data": {
      "image/png": "[encoded data removed]",
      "text/plain": [
       "<Figure size 640x480 with 1 Axes>"
      ]
     },
     "metadata": {},
     "output_type": "display_data"
    }
   ],
   "source": [
    "#create a list of alpha values\n",
    "alphas = [0,0.01,0.05,0.1,0.2,0.5,0.8,1,5,10]\n",
    "#run the lasso regression for all the alpha values\n",
    "#and store the scores in a dataframe\n",
    "scores = pd.DataFrame(columns=[\"score\"],index=alphas)\n",
    "for alpha in alphas:\n",
    "    reg = run_lasso_regression(X_std,y,alpha)\n",
    "    scores.loc[alpha] = reg.score(X_std,y)\n",
    "plt.plot(scores.index,scores[\"score\"],color=\"#32612d\")\n",
    "plt.title(\"Lasso Regression Score vs Alpha\")\n",
    "plt.xlabel(\"alpha\")\n",
    "plt.ylabel(\"Lasso regresiion score\")\n",
    "display(scores)\n",
    "print(\"best alpha: \",scores[scores[\"score\"] == scores[\"score\"].max()].index.values[0])\n",
    "#the best alpha is 0, which means no regularization, with OLS being the best result"
   ]
  },
  {
   "cell_type": "markdown",
   "id": "17b28626",
   "metadata": {},
   "source": [
    "# 7.) Run a cross validation. What is your ideal lambda?"
   ]
  },
  {
   "cell_type": "code",
   "execution_count": 46,
   "id": "17b28626",
   "metadata": {},
   "outputs": [
    {
     "name": "stderr",
     "output_type": "stream",
     "text": [
      "/Library/Frameworks/Python.framework/Versions/3.11/lib/python3.11/site-packages/sklearn/base.py:1152: UserWarning: With alpha=0, this algorithm does not converge well. You are advised to use the LinearRegression estimator\n",
      "  return fit_method(estimator, *args, **kwargs)\n",
      "/Library/Frameworks/Python.framework/Versions/3.11/lib/python3.11/site-packages/sklearn/linear_model/_coordinate_descent.py:628: UserWarning: Coordinate descent with no regularization may lead to unexpected results and is discouraged.\n",
      "  model = cd_fast.enet_coordinate_descent(\n",
      "/Library/Frameworks/Python.framework/Versions/3.11/lib/python3.11/site-packages/sklearn/linear_model/_coordinate_descent.py:628: ConvergenceWarning: Objective did not converge. You might want to increase the number of iterations, check the scale of the features or consider increasing regularisation. Duality gap: 1.418e+00, tolerance: 1.570e-03 Linear regression models with null weight for the l1 regularization term are more efficiently fitted using one of the solvers implemented in sklearn.linear_model.Ridge/RidgeCV instead.\n",
      "  model = cd_fast.enet_coordinate_descent(\n",
      "/Library/Frameworks/Python.framework/Versions/3.11/lib/python3.11/site-packages/sklearn/base.py:1152: UserWarning: With alpha=0, this algorithm does not converge well. You are advised to use the LinearRegression estimator\n",
      "  return fit_method(estimator, *args, **kwargs)\n",
      "/Library/Frameworks/Python.framework/Versions/3.11/lib/python3.11/site-packages/sklearn/linear_model/_coordinate_descent.py:628: UserWarning: Coordinate descent with no regularization may lead to unexpected results and is discouraged.\n",
      "  model = cd_fast.enet_coordinate_descent(\n",
      "/Library/Frameworks/Python.framework/Versions/3.11/lib/python3.11/site-packages/sklearn/linear_model/_coordinate_descent.py:628: ConvergenceWarning: Objective did not converge. You might want to increase the number of iterations, check the scale of the features or consider increasing regularisation. Duality gap: 1.916e+00, tolerance: 1.768e-03 Linear regression models with null weight for the l1 regularization term are more efficiently fitted using one of the solvers implemented in sklearn.linear_model.Ridge/RidgeCV instead.\n",
      "  model = cd_fast.enet_coordinate_descent(\n",
      "/Library/Frameworks/Python.framework/Versions/3.11/lib/python3.11/site-packages/sklearn/base.py:1152: UserWarning: With alpha=0, this algorithm does not converge well. You are advised to use the LinearRegression estimator\n",
      "  return fit_method(estimator, *args, **kwargs)\n",
      "/Library/Frameworks/Python.framework/Versions/3.11/lib/python3.11/site-packages/sklearn/linear_model/_coordinate_descent.py:628: UserWarning: Coordinate descent with no regularization may lead to unexpected results and is discouraged.\n",
      "  model = cd_fast.enet_coordinate_descent(\n",
      "/Library/Frameworks/Python.framework/Versions/3.11/lib/python3.11/site-packages/sklearn/linear_model/_coordinate_descent.py:628: ConvergenceWarning: Objective did not converge. You might want to increase the number of iterations, check the scale of the features or consider increasing regularisation. Duality gap: 1.715e+00, tolerance: 2.015e-03 Linear regression models with null weight for the l1 regularization term are more efficiently fitted using one of the solvers implemented in sklearn.linear_model.Ridge/RidgeCV instead.\n",
      "  model = cd_fast.enet_coordinate_descent(\n",
      "/Library/Frameworks/Python.framework/Versions/3.11/lib/python3.11/site-packages/sklearn/base.py:1152: UserWarning: With alpha=0, this algorithm does not converge well. You are advised to use the LinearRegression estimator\n",
      "  return fit_method(estimator, *args, **kwargs)\n",
      "/Library/Frameworks/Python.framework/Versions/3.11/lib/python3.11/site-packages/sklearn/linear_model/_coordinate_descent.py:628: UserWarning: Coordinate descent with no regularization may lead to unexpected results and is discouraged.\n",
      "  model = cd_fast.enet_coordinate_descent(\n",
      "/Library/Frameworks/Python.framework/Versions/3.11/lib/python3.11/site-packages/sklearn/linear_model/_coordinate_descent.py:628: ConvergenceWarning: Objective did not converge. You might want to increase the number of iterations, check the scale of the features or consider increasing regularisation. Duality gap: 1.437e+00, tolerance: 1.916e-03 Linear regression models with null weight for the l1 regularization term are more efficiently fitted using one of the solvers implemented in sklearn.linear_model.Ridge/RidgeCV instead.\n",
      "  model = cd_fast.enet_coordinate_descent(\n",
      "/Library/Frameworks/Python.framework/Versions/3.11/lib/python3.11/site-packages/sklearn/base.py:1152: UserWarning: With alpha=0, this algorithm does not converge well. You are advised to use the LinearRegression estimator\n",
      "  return fit_method(estimator, *args, **kwargs)\n",
      "/Library/Frameworks/Python.framework/Versions/3.11/lib/python3.11/site-packages/sklearn/linear_model/_coordinate_descent.py:628: UserWarning: Coordinate descent with no regularization may lead to unexpected results and is discouraged.\n",
      "  model = cd_fast.enet_coordinate_descent(\n",
      "/Library/Frameworks/Python.framework/Versions/3.11/lib/python3.11/site-packages/sklearn/linear_model/_coordinate_descent.py:628: ConvergenceWarning: Objective did not converge. You might want to increase the number of iterations, check the scale of the features or consider increasing regularisation. Duality gap: 6.105e-01, tolerance: 5.790e-04 Linear regression models with null weight for the l1 regularization term are more efficiently fitted using one of the solvers implemented in sklearn.linear_model.Ridge/RidgeCV instead.\n",
      "  model = cd_fast.enet_coordinate_descent(\n"
     ]
    },
    {
     "data": {
      "text/html": [
       "<div>\n",
       "<style scoped>\n",
       "    .dataframe tbody tr th:only-of-type {\n",
       "        vertical-align: middle;\n",
       "    }\n",
       "\n",
       "    .dataframe tbody tr th {\n",
       "        vertical-align: top;\n",
       "    }\n",
       "\n",
       "    .dataframe thead th {\n",
       "        text-align: right;\n",
       "    }\n",
       "</style>\n",
       "<table border=\"1\" class=\"dataframe\">\n",
       "  <thead>\n",
       "    <tr style=\"text-align: right;\">\n",
       "      <th></th>\n",
       "      <th>score1</th>\n",
       "      <th>score2</th>\n",
       "      <th>score3</th>\n",
       "      <th>score4</th>\n",
       "      <th>score5</th>\n",
       "      <th>mean</th>\n",
       "      <th>std</th>\n",
       "    </tr>\n",
       "  </thead>\n",
       "  <tbody>\n",
       "    <tr>\n",
       "      <th>0</th>\n",
       "      <td>-26315.872364</td>\n",
       "      <td>-5.519213</td>\n",
       "      <td>-8.268378</td>\n",
       "      <td>-1.387026</td>\n",
       "      <td>-1.895554</td>\n",
       "      <td>-5266.588507</td>\n",
       "      <td>10524.642228</td>\n",
       "    </tr>\n",
       "    <tr>\n",
       "      <th>0.01</th>\n",
       "      <td>-9132.655165</td>\n",
       "      <td>-2.687613</td>\n",
       "      <td>-2.410305</td>\n",
       "      <td>-1.361706</td>\n",
       "      <td>-2.471721</td>\n",
       "      <td>-1828.317302</td>\n",
       "      <td>3652.168960</td>\n",
       "    </tr>\n",
       "    <tr>\n",
       "      <th>0.05</th>\n",
       "      <td>-595.029472</td>\n",
       "      <td>-0.826945</td>\n",
       "      <td>-0.483071</td>\n",
       "      <td>-1.087152</td>\n",
       "      <td>-3.771273</td>\n",
       "      <td>-120.239583</td>\n",
       "      <td>237.397813</td>\n",
       "    </tr>\n",
       "    <tr>\n",
       "      <th>0.1</th>\n",
       "      <td>-816.775443</td>\n",
       "      <td>-1.350524</td>\n",
       "      <td>-0.294203</td>\n",
       "      <td>-0.588779</td>\n",
       "      <td>-4.774161</td>\n",
       "      <td>-164.756622</td>\n",
       "      <td>326.013328</td>\n",
       "    </tr>\n",
       "    <tr>\n",
       "      <th>0.2</th>\n",
       "      <td>-999.921665</td>\n",
       "      <td>-4.174646</td>\n",
       "      <td>-0.032768</td>\n",
       "      <td>-0.010107</td>\n",
       "      <td>-5.731659</td>\n",
       "      <td>-201.974169</td>\n",
       "      <td>398.980148</td>\n",
       "    </tr>\n",
       "    <tr>\n",
       "      <th>0.5</th>\n",
       "      <td>-1511.669868</td>\n",
       "      <td>-14.569639</td>\n",
       "      <td>-0.246827</td>\n",
       "      <td>-0.658656</td>\n",
       "      <td>-6.167944</td>\n",
       "      <td>-306.662587</td>\n",
       "      <td>602.525832</td>\n",
       "    </tr>\n",
       "    <tr>\n",
       "      <th>0.8</th>\n",
       "      <td>-1511.669868</td>\n",
       "      <td>-14.569639</td>\n",
       "      <td>-0.246827</td>\n",
       "      <td>-0.658656</td>\n",
       "      <td>-6.167944</td>\n",
       "      <td>-306.662587</td>\n",
       "      <td>602.525832</td>\n",
       "    </tr>\n",
       "    <tr>\n",
       "      <th>1</th>\n",
       "      <td>-1511.669868</td>\n",
       "      <td>-14.569639</td>\n",
       "      <td>-0.246827</td>\n",
       "      <td>-0.658656</td>\n",
       "      <td>-6.167944</td>\n",
       "      <td>-306.662587</td>\n",
       "      <td>602.525832</td>\n",
       "    </tr>\n",
       "    <tr>\n",
       "      <th>5</th>\n",
       "      <td>-1511.669868</td>\n",
       "      <td>-14.569639</td>\n",
       "      <td>-0.246827</td>\n",
       "      <td>-0.658656</td>\n",
       "      <td>-6.167944</td>\n",
       "      <td>-306.662587</td>\n",
       "      <td>602.525832</td>\n",
       "    </tr>\n",
       "    <tr>\n",
       "      <th>10</th>\n",
       "      <td>-1511.669868</td>\n",
       "      <td>-14.569639</td>\n",
       "      <td>-0.246827</td>\n",
       "      <td>-0.658656</td>\n",
       "      <td>-6.167944</td>\n",
       "      <td>-306.662587</td>\n",
       "      <td>602.525832</td>\n",
       "    </tr>\n",
       "  </tbody>\n",
       "</table>\n",
       "</div>"
      ],
      "text/plain": [
       "            score1     score2    score3    score4    score5         mean  \\\n",
       "0    -26315.872364  -5.519213 -8.268378 -1.387026 -1.895554 -5266.588507   \n",
       "0.01  -9132.655165  -2.687613 -2.410305 -1.361706 -2.471721 -1828.317302   \n",
       "0.05   -595.029472  -0.826945 -0.483071 -1.087152 -3.771273  -120.239583   \n",
       "0.1    -816.775443  -1.350524 -0.294203 -0.588779 -4.774161  -164.756622   \n",
       "0.2    -999.921665  -4.174646 -0.032768 -0.010107 -5.731659  -201.974169   \n",
       "0.5   -1511.669868 -14.569639 -0.246827 -0.658656 -6.167944  -306.662587   \n",
       "0.8   -1511.669868 -14.569639 -0.246827 -0.658656 -6.167944  -306.662587   \n",
       "1     -1511.669868 -14.569639 -0.246827 -0.658656 -6.167944  -306.662587   \n",
       "5     -1511.669868 -14.569639 -0.246827 -0.658656 -6.167944  -306.662587   \n",
       "10    -1511.669868 -14.569639 -0.246827 -0.658656 -6.167944  -306.662587   \n",
       "\n",
       "               std  \n",
       "0     10524.642228  \n",
       "0.01   3652.168960  \n",
       "0.05    237.397813  \n",
       "0.1     326.013328  \n",
       "0.2     398.980148  \n",
       "0.5     602.525832  \n",
       "0.8     602.525832  \n",
       "1       602.525832  \n",
       "5       602.525832  \n",
       "10      602.525832  "
      ]
     },
     "metadata": {},
     "output_type": "display_data"
    },
    {
     "name": "stdout",
     "output_type": "stream",
     "text": [
      "best alpha:  0.05  with cross validation score:  -120.23958262019039\n"
     ]
    },
    {
     "data": {
      "text/plain": [
       "Text(0.5, 1.0, 'Lasso Regression Cross Validation Scores')"
      ]
     },
     "execution_count": 46,
     "metadata": {},
     "output_type": "execute_result"
    },
    {
     "data": {
      "image/png": "[encoded data removed]",
      "text/plain": [
       "<Figure size 640x480 with 1 Axes>"
      ]
     },
     "metadata": {},
     "output_type": "display_data"
    }
   ],
   "source": [
    "#using cross validation to find the best alpha\n",
    "from sklearn.model_selection import cross_val_score\n",
    "\n",
    "n = 5\n",
    "#run the lasso regression for all the alpha values\n",
    "#and store the scores in a dataframe\n",
    "scores_cross_validation = pd.DataFrame(columns=['score{}'.format(i) for i in range(1,n+1)])\n",
    "\n",
    "for alpha in alphas:\n",
    "   lasso = Lasso(alpha=alpha)\n",
    "   fit = cross_val_score(lasso, X_std, y, cv=n)\n",
    "   scores_cross_validation.loc[str(alpha)] = fit\n",
    "scores_cross_validation[\"mean\"] = scores_cross_validation.mean(axis=1)\n",
    "scores_cross_validation['std'] = scores_cross_validation.std(axis=1)\n",
    "display(scores_cross_validation)\n",
    "#the higher cross validation score, the better\n",
    "#the lower std, the better\n",
    "\n",
    "\n",
    "#return the alpha with the highest cross validation score\n",
    "best_alpha = scores_cross_validation[\"mean\"].idxmax()\n",
    "print(\"best alpha: \",best_alpha,\" with cross validation score: \",scores_cross_validation.loc[best_alpha,\"mean\"])\n",
    "scores_cross_validation.drop([\"mean\",\"std\"],axis=1,inplace=True)\n",
    "scores_cross_validation.T.boxplot().set_title(\"Lasso Regression Cross Validation Scores\")\n",
    "#the ideal alpha is 0.01, with comparatively high cross validation score\n",
    "#and low std"
   ]
  }
 ],
 "metadata": {
  "kernelspec": {
   "display_name": "Python 3 (ipykernel)",
   "language": "python",
   "name": "python3"
  },
  "language_info": {
   "codemirror_mode": {
    "name": "ipython",
    "version": 3
   },
   "file_extension": ".py",
   "mimetype": "text/x-python",
   "name": "python",
   "nbconvert_exporter": "python",
   "pygments_lexer": "ipython3",
   "version": "3.11.5"
  }
 },
 "nbformat": 4,
 "nbformat_minor": 5
}
